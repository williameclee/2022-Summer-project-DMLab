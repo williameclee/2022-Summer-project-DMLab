{
 "cells": [
  {
   "cell_type": "markdown",
   "metadata": {},
   "source": [
    "# Advection\n",
    "## 1D linear advection\n",
    "$$\n",
    "    \\frac{\\partial q}{\\partial t}+c\\frac{\\partial q}{\\partial x} = 0.\n",
    "$$"
   ]
  },
  {
   "cell_type": "code",
   "execution_count": 1,
   "metadata": {},
   "outputs": [],
   "source": [
    "import numpy as np\n",
    "from numpy import fft\n",
    "import matplotlib.pyplot as plt\n",
    "import sys\n",
    "sys.path.append('../')\n",
    "from code_nm_differentiation import nm"
   ]
  },
  {
   "cell_type": "code",
   "execution_count": 7,
   "metadata": {},
   "outputs": [],
   "source": [
    "L    = 10\n",
    "N    = 20\n",
    "Tlen = 20\n",
    "X    = np.linspace(-L,L,N+1)[0:-1]\n",
    "Dx   = X[1]-X[0]\n",
    "Dt   = 0.1*Dx\n",
    "T    = np.arange(0,Tlen+Dt,Dt)\n",
    "c    = 0.2"
   ]
  },
  {
   "cell_type": "code",
   "execution_count": null,
   "metadata": {},
   "outputs": [],
   "source": [
    "Q      = np.zeros(len(T),len(X))\n",
    "Q[0,:] = np.exp(-5*X**2)\n",
    "\n",
    "for i in range len(T):\n",
    "    U(i+1,:) = NIntgRk4(0,U(i,:),Dt,@fFft,X,c)\n",
    "\n",
    "function Y = fFft(~,U,X,c,~,~,~,~)\n",
    "    if ~exist('c','var')\n",
    "         c = 1;\n",
    "    end\n",
    "    Y = -c*NDiffFft(X,U);\n",
    "end"
   ]
  }
 ],
 "metadata": {
  "kernelspec": {
   "display_name": "Python 3.7.12 ('base')",
   "language": "python",
   "name": "python3"
  },
  "language_info": {
   "codemirror_mode": {
    "name": "ipython",
    "version": 3
   },
   "file_extension": ".py",
   "mimetype": "text/x-python",
   "name": "python",
   "nbconvert_exporter": "python",
   "pygments_lexer": "ipython3",
   "version": "3.7.12"
  },
  "orig_nbformat": 4,
  "vscode": {
   "interpreter": {
    "hash": "40d3a090f54c6569ab1632332b64b2c03c39dcf918b08424e98f38b5ae0af88f"
   }
  }
 },
 "nbformat": 4,
 "nbformat_minor": 2
}
