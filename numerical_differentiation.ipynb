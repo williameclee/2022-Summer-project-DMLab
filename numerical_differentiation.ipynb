{
 "cells": [
  {
   "cell_type": "markdown",
   "metadata": {},
   "source": [
    "# Numerical Differentiation\n",
    "考慮定義域\n",
    "\\begin{align*}\n",
    "    x\\in[a,b),\n",
    "\\end{align*}\n",
    "其中 $b-a=L$。\n",
    "\n",
    "將定義域離散化爲 $N$ 點得到 $\\textbf{X}$，其中\n",
    "\\begin{align*}\n",
    "    x_i &= i\\Delta x, \\qquad i=0,1,2,\\dots,N-1\n",
    "\\end{align*}\n",
    "間隔 $\\Delta x=L/N$。\n",
    "\n",
    "方便展示，考慮函數\n",
    "\\begin{align*}\n",
    "    f(x_i) &= e^{-5{x_i}^2},\n",
    "\\end{align*}\n",
    "其中\n",
    "\\begin{align*}\n",
    "    \\frac{\\mathrm{d}}{\\mathrm{d}x}f(x_i) &= -10x_ie^{-5{x_i}^2}.\n",
    "\\end{align*}\n"
   ]
  },
  {
   "cell_type": "code",
   "execution_count": 1,
   "metadata": {},
   "outputs": [],
   "source": [
    "import numpy as np\n",
    "from numpy import fft as fft\n",
    "import matplotlib.pyplot as plt"
   ]
  },
  {
   "cell_type": "code",
   "execution_count": 2,
   "metadata": {},
   "outputs": [],
   "source": [
    "N = 2**8\n",
    "a = -10\n",
    "b = 10\n",
    "L = b-a\n",
    "X = np.linspace(a,b,N+1)[0:N]\n",
    "def f(x):\n",
    "    y = np.exp(-5*x**2)\n",
    "    return y\n",
    "Y = f(X)\n",
    "YDiffAna = -10*X*Y"
   ]
  },
  {
   "cell_type": "markdown",
   "metadata": {},
   "source": [
    "## Finite differences\n",
    "將 $f(x+\\Delta x)$ 進行泰勒展開得到\n",
    "\\begin{align*}\n",
    "    f(x+\\Delta x) &= f(x) + f'(x)\\Delta x + \\frac{f''(x)}{2}\\Delta x^2 + \\frac{f^{(3)}(x)}{3!}\\Delta x^3+\\cdots\n",
    "\\end{align*}\n",
    "### FD1\n",
    "將展開結果重組：\n",
    "\\begin{align*}\n",
    "    \\frac{\\mathrm{d}}{\\mathrm{d}x}f(x)\n",
    "    &= \\frac{1}{\\Delta x}\\left(f(x+\\Delta x)-f(x)\\right) - \\frac{f''(x)}{2}\\Delta x +\\cdots \\\\\n",
    "    f'_\\mathrm{FD1}(x_i) \n",
    "    &= \\frac{1}{\\Delta x}\\left(f(x_{i+1})-f(x_i)\\right) +O(\\Delta x).\n",
    "\\end{align*}\n",
    "考慮週期邊界，FD1 是："
   ]
  },
  {
   "cell_type": "code",
   "execution_count": 3,
   "metadata": {},
   "outputs": [],
   "source": [
    "def NDiffFd1(X,Y):\n",
    "    Dx = X[1]-X[0]\n",
    "    Yp1 = np.append(Y[1:],Y[0])\n",
    "    Yd = (Yp1-Y)/Dx;\n",
    "    return Yd\n",
    "\n",
    "YDiffFd1 = NDiffFd1(X,Y)"
   ]
  },
  {
   "cell_type": "markdown",
   "metadata": {},
   "source": [
    "### FD2\n",
    "類似地，$f(x-\\Delta x)$ 可展開爲\n",
    "\\begin{align*}\n",
    "    f(x-\\Delta x) &= f(x) - f'(x)\\Delta x + \\frac{f''(x)}{2}\\Delta x^2 - \\frac{f^{(3)}(x)}{3!}\\Delta x^3 +\\cdots.\n",
    "\\end{align*}\n",
    "與 FD1 結合可得到\n",
    "\\begin{align*}\n",
    "    f(x+\\Delta x)-f(x-\\Delta x) &= 2f'(x)\\Delta x + 2\\frac{f^{(3)}(x)}{3!}\\Delta x^3 +\\cdots \\\\\n",
    "    \\frac{\\mathrm{d}}{\\mathrm{d}x}f(x) &= \\frac{1}{2\\Delta x}(f(x+\\Delta x)-f(x-\\Delta x)) -\\frac{1}{6}f^{(3)}(x)\\Delta x^2 +\\cdots \\\\\n",
    "    f'_\\mathrm{FD2}(x_i) &= \\frac{1}{2\\Delta x}(f(x_{i+1})-f(x_{i-1})) +O(\\Delta x^2).\n",
    "\\end{align*}"
   ]
  },
  {
   "cell_type": "code",
   "execution_count": 4,
   "metadata": {},
   "outputs": [],
   "source": [
    "def NDiffFd2(X,Y):\n",
    "    Dx = X[1]-X[0]\n",
    "    Yp1 = np.append(Y[1:],Y[0])\n",
    "    Yn1 = np.append(Y[-1],Y[:-1])\n",
    "    Yd = (Yp1-Yn1)/(2*Dx);\n",
    "    return Yd\n",
    "\n",
    "YDiffFd2 = NDiffFd2(X,Y)"
   ]
  },
  {
   "cell_type": "markdown",
   "metadata": {},
   "source": [
    "### FD4\n",
    "同理對於 $f(x\\pm 2\\Delta x)$ 依然有\n",
    "\\begin{align*}\n",
    "    f(x+2\\Delta x)-f(x-2\\Delta x) &= 2f'(x)2\\Delta x + 2\\frac{f^{(3)}(x)}{3!}(2\\Delta x)^3 +\\cdots \\\\\n",
    "    f'(x) &= \\frac{1}{4\\Delta x}(f(x+2\\Delta x)-f(x-2\\Delta x)) -\\frac{4}{6}f^{(3)}(x)\\Delta x^2 +\\cdots .\n",
    "\\end{align*}\n",
    "與 FD2 結合可得到:\n",
    "\\begin{align}\n",
    "    f'_\\mathrm{FD4}(x_i) &= \\frac{2}{3\\Delta x}(f(x_{i+1})-f(x_{i-1})) -\\frac{1}{12\\Delta x}(f(x_{i+2})-f(x_{i-2}))+ O(\\Delta x^4).\n",
    "\\end{align}"
   ]
  },
  {
   "cell_type": "code",
   "execution_count": 5,
   "metadata": {},
   "outputs": [],
   "source": [
    "def NDiffFd4(X,Y):\n",
    "    Dx = X[1]-X[0]\n",
    "    Yp1 = np.append(Y[1:],Y[0])\n",
    "    Yn1 = np.append(Y[-1],Y[:-1])\n",
    "    Yp2 = np.append(Y[2:],Y[0:2])\n",
    "    Yn2 = np.append(Y[-2:],Y[:-2])\n",
    "    Yd = (Yp1-Yn1)*(2/3/Dx)-(Yp2-Yn2)*(1/12/Dx)\n",
    "    return Yd\n",
    "\n",
    "YDiffFd4 = NDiffFd4(X,Y)"
   ]
  },
  {
   "cell_type": "markdown",
   "metadata": {},
   "source": [
    "### FD6"
   ]
  },
  {
   "cell_type": "code",
   "execution_count": 6,
   "metadata": {},
   "outputs": [],
   "source": [
    "def NDiffFd6(X,Y):\n",
    "    Dx = X[1]-X[0]\n",
    "    Yp1 = np.append(Y[1:],Y[0])\n",
    "    Yn1 = np.append(Y[-1],Y[:-1])\n",
    "    Yp2 = np.append(Y[2:],Y[0:2])\n",
    "    Yn2 = np.append(Y[-2:],Y[:-2])\n",
    "    Yp3 = np.append(Y[3:],Y[0:3])\n",
    "    Yn3 = np.append(Y[-3:],Y[:-3])\n",
    "    Yd = (Yp1-Yn1)*(3/4/Dx)-(Yp2-Yn2)*(3/20/Dx)+(Yp3-Yn3)*(1/60/Dx)\n",
    "    return Yd\n",
    "\n",
    "YDiffFd6 = NDiffFd6(X,Y)"
   ]
  },
  {
   "cell_type": "markdown",
   "metadata": {},
   "source": [
    "## Spectral method\n",
    "### FFT"
   ]
  },
  {
   "cell_type": "code",
   "execution_count": 7,
   "metadata": {},
   "outputs": [],
   "source": [
    "def NDiffFft(X,Y,od):\n",
    "    # if ~exist('order','var')\n",
    "    #      od = 1;\n",
    "    N = len(X)\n",
    "    L = X[-1]-X[0]+X[1]-X[0]\n",
    "    if np.mod(len(Y),2) == 0:\n",
    "        omega = fft.fftshift(1j*(2*np.pi/L)*np.arange(-(N/2),(N/2),1))\n",
    "    else:\n",
    "        omega = fft.fftshift(1j*(2*np.pi/L)*np.arange(-np.floor(N/2),np.floor(N/2)+1,1))\n",
    "    YHat  = fft.fft(Y)\n",
    "    YdHat = omega**od*YHat\n",
    "    Yd    = np.real(fft.ifft(YdHat))\n",
    "    return Yd\n",
    "\n",
    "YDiffFft = NDiffFft(X,Y,1)"
   ]
  },
  {
   "cell_type": "code",
   "execution_count": 8,
   "metadata": {},
   "outputs": [
    {
     "data": {
      "image/png": "[encoded data removed]",
      "text/plain": [
       "<Figure size 432x288 with 1 Axes>"
      ]
     },
     "metadata": {
      "needs_background": "light"
     },
     "output_type": "display_data"
    }
   ],
   "source": [
    "plt.plot(X,YDiffAna,linewidth=0.5,color='k',label='analytical')\n",
    "plt.plot(X,YDiffFd1,linewidth=0.5,color='b',label='FD1')\n",
    "plt.plot(X,YDiffFd2,linewidth=0.5,color='r',label='FD2')\n",
    "plt.plot(X,YDiffFd4,linewidth=0.5,color='g',label='FD4')\n",
    "plt.plot(X,YDiffFd6,linewidth=0.5,color='purple',label='FD6')\n",
    "plt.plot(X,YDiffFft,linewidth=0.5,color='cyan',label='FFT')\n",
    "plt.legend()\n",
    "plt.show()"
   ]
  }
 ],
 "metadata": {
  "kernelspec": {
   "display_name": "Python 3.7.12 ('base')",
   "language": "python",
   "name": "python3"
  },
  "language_info": {
   "codemirror_mode": {
    "name": "ipython",
    "version": 3
   },
   "file_extension": ".py",
   "mimetype": "text/x-python",
   "name": "python",
   "nbconvert_exporter": "python",
   "pygments_lexer": "ipython3",
   "version": "3.7.12"
  },
  "orig_nbformat": 4,
  "vscode": {
   "interpreter": {
    "hash": "40d3a090f54c6569ab1632332b64b2c03c39dcf918b08424e98f38b5ae0af88f"
   }
  }
 },
 "nbformat": 4,
 "nbformat_minor": 2
}
