{
 "cells": [
  {
   "cell_type": "markdown",
   "metadata": {},
   "source": [
    "# Numerical Differentiation\n",
    "Consider a domain\n",
    "\\begin{align*}\n",
    "    x\\in[a,b),\n",
    "\\end{align*}\n",
    "where $b-a=L$.\n",
    "\n",
    "Discretising the domain into $N$ points yields $\\textbf{X}$, where\n",
    "\\begin{align*}\n",
    "    x_i &= i\\Delta x, \\qquad i=0,1,2,\\dots,N-1\n",
    "\\end{align*}\n",
    "and the spacing $\\Delta x=L/N$.\n",
    "\n",
    "For demonstration, consider a function\n",
    "\\begin{align*}\n",
    "    f(x_i) &= e^{-5{x_i}^2},\n",
    "\\end{align*}\n",
    "where\n",
    "\\begin{align*}\n",
    "    \\frac{\\mathrm{d}}{\\mathrm{d}x}f(x_i) &= -10x_ie^{-5{x_i}^2}.\n",
    "\\end{align*}\n"
   ]
  },
  {
   "cell_type": "code",
   "execution_count": 71,
   "metadata": {},
   "outputs": [],
   "source": [
    "import numpy as np\n",
    "from numpy import fft as fft\n",
    "import matplotlib.pyplot as plt"
   ]
  },
  {
   "cell_type": "code",
   "execution_count": 72,
   "metadata": {},
   "outputs": [],
   "source": [
    "N = 2**8\n",
    "a = -10\n",
    "b = 10\n",
    "L = b-a\n",
    "X = np.linspace(a,b,N+1)[0:N]\n",
    "def f(x):\n",
    "    y = np.exp(-5*x**2)\n",
    "    return y\n",
    "Y = f(X)\n",
    "YDiffAna = -10*X*Y"
   ]
  },
  {
   "cell_type": "markdown",
   "metadata": {},
   "source": [
    "## Finite differences\n",
    "The Taylor's expansion of $f(x+\\Delta x)$ is:\n",
    "\\begin{align*}\n",
    "    f(x+\\Delta x) &= f(x) + f'(x)\\Delta x + \\frac{f''(x)}{2}\\Delta x^2 + \\frac{f^{(3)}(x)}{3!}\\Delta x^3+\\cdots\n",
    "\\end{align*}\n",
    "### FD1\n",
    "FD1 is given by rearranging Taylor's expansion of $f(x+\\Delta x)$:\n",
    "\\begin{align*}\n",
    "    \\left(\\frac{\\mathrm{d}f(x)}{\\mathrm{d}x}\\right)_\\mathrm{FD1} \n",
    "    &= \\frac{1}{\\Delta x}\\left(f(x+\\Delta x)-f(x)\\right) \\\\\n",
    "    f'_\\mathrm{FD1}(x_i) \n",
    "    &= \\frac{1}{\\Delta x}\\left(f(x_{i+1})-f(x_i)\\right).\n",
    "\\end{align*}\n",
    "With the periodic BC, FD1 is"
   ]
  },
  {
   "cell_type": "code",
   "execution_count": 73,
   "metadata": {},
   "outputs": [],
   "source": [
    "def NDiffFd1(X,Y):\n",
    "    Dx = X[1]-X[0]\n",
    "    Yp1 = np.append(Y[1:],Y[0])\n",
    "    Yd = (Yp1-Y)/Dx;\n",
    "    return Yd\n",
    "\n",
    "YDiffFd1 = NDiffFd1(X,Y)"
   ]
  },
  {
   "cell_type": "markdown",
   "metadata": {},
   "source": [
    "### FD2"
   ]
  },
  {
   "cell_type": "code",
   "execution_count": 74,
   "metadata": {},
   "outputs": [],
   "source": [
    "def NDiffFd2(X,Y):\n",
    "    Dx = X[1]-X[0]\n",
    "    Yp1 = np.append(Y[1:],Y[0])\n",
    "    Yn1 = np.append(Y[-1],Y[:-1])\n",
    "    Yd = (Yp1-Yn1)/(2*Dx);\n",
    "    return Yd\n",
    "\n",
    "YDiffFd2 = NDiffFd2(X,Y)"
   ]
  },
  {
   "cell_type": "markdown",
   "metadata": {},
   "source": [
    "### FD4"
   ]
  },
  {
   "cell_type": "code",
   "execution_count": 75,
   "metadata": {},
   "outputs": [],
   "source": [
    "def NDiffFd4(X,Y):\n",
    "    Dx = X[1]-X[0]\n",
    "    Yp1 = np.append(Y[1:],Y[0])\n",
    "    Yn1 = np.append(Y[-1],Y[:-1])\n",
    "    Yp2 = np.append(Y[2:],Y[0:2])\n",
    "    Yn2 = np.append(Y[-2:],Y[:-2])\n",
    "    Yd = (Yp1-Yn1)*(2/3/Dx)-(Yp2-Yn2)*(1/12/Dx)\n",
    "    return Yd\n",
    "\n",
    "YDiffFd4 = NDiffFd4(X,Y)"
   ]
  },
  {
   "cell_type": "markdown",
   "metadata": {},
   "source": [
    "### FD6"
   ]
  },
  {
   "cell_type": "code",
   "execution_count": 76,
   "metadata": {},
   "outputs": [],
   "source": [
    "def NDiffFd6(X,Y):\n",
    "    Dx = X[1]-X[0]\n",
    "    Yp1 = np.append(Y[1:],Y[0])\n",
    "    Yn1 = np.append(Y[-1],Y[:-1])\n",
    "    Yp2 = np.append(Y[2:],Y[0:2])\n",
    "    Yn2 = np.append(Y[-2:],Y[:-2])\n",
    "    Yp3 = np.append(Y[3:],Y[0:3])\n",
    "    Yn3 = np.append(Y[-3:],Y[:-3])\n",
    "    Yd = (Yp1-Yn1)*(2/3/Dx)-(Yp2-Yn2)*(1/12/Dx)\n",
    "    return Yd\n",
    "\n",
    "YDiffFd6 = NDiffFd6(X,Y)"
   ]
  },
  {
   "cell_type": "markdown",
   "metadata": {},
   "source": [
    "## Spectral method\n",
    "### FFT"
   ]
  },
  {
   "cell_type": "code",
   "execution_count": 77,
   "metadata": {},
   "outputs": [],
   "source": [
    "def NDiffFft(X,Y,od):\n",
    "    # if ~exist('order','var')\n",
    "    #      od = 1;\n",
    "    N = len(X)\n",
    "    L = X[-1]-X[0]+X[1]-X[0]\n",
    "    if np.mod(len(Y),2) == 0:\n",
    "        omega = fft.fftshift(1j*(2*np.pi/L)*np.arange(-(N/2),(N/2),1))\n",
    "    else:\n",
    "        omega = fft.fftshift(1j*(2*np.pi/L)*np.arange(-np.floor(N/2),np.floor(N/2)+1,1))\n",
    "    YHat  = fft.fft(Y)\n",
    "    YdHat = omega**od*YHat\n",
    "    Yd    = np.real(fft.ifft(YdHat))\n",
    "    return Yd\n",
    "\n",
    "YDiffFft = NDiffFft(X,Y,1)"
   ]
  },
  {
   "cell_type": "code",
   "execution_count": 78,
   "metadata": {},
   "outputs": [
    {
     "data": {
      "text/plain": [
       "<matplotlib.legend.Legend at 0x7fcfc566ef10>"
      ]
     },
     "execution_count": 78,
     "metadata": {},
     "output_type": "execute_result"
    },
    {
     "data": {
      "image/png": "[encoded data removed]",
      "text/plain": [
       "<Figure size 432x288 with 1 Axes>"
      ]
     },
     "metadata": {
      "needs_background": "light"
     },
     "output_type": "display_data"
    }
   ],
   "source": [
    "plt.plot(X,YDiffAna,linewidth=0.5,color='k',label='analytical')\n",
    "plt.plot(X,YDiffFd1,linewidth=0.5,color='b',label='FD1')\n",
    "plt.plot(X,YDiffFd2,linewidth=0.5,color='r',label='FD2')\n",
    "plt.plot(X,YDiffFd4,linewidth=0.5,color='g',label='FD4')\n",
    "plt.plot(X,YDiffFft,linewidth=0.5,color='cyan',label='FFT')\n",
    "plt.legend()"
   ]
  },
  {
   "cell_type": "code",
   "execution_count": 79,
   "metadata": {},
   "outputs": [
    {
     "name": "stdout",
     "output_type": "stream",
     "text": [
      "(64,)\n"
     ]
    }
   ],
   "source": [
    "print(np.shape(YDiffFft))"
   ]
  }
 ],
 "metadata": {
  "kernelspec": {
   "display_name": "Python 3.7.12 ('base')",
   "language": "python",
   "name": "python3"
  },
  "language_info": {
   "codemirror_mode": {
    "name": "ipython",
    "version": 3
   },
   "file_extension": ".py",
   "mimetype": "text/x-python",
   "name": "python",
   "nbconvert_exporter": "python",
   "pygments_lexer": "ipython3",
   "version": "3.7.12"
  },
  "orig_nbformat": 4,
  "vscode": {
   "interpreter": {
    "hash": "40d3a090f54c6569ab1632332b64b2c03c39dcf918b08424e98f38b5ae0af88f"
   }
  }
 },
 "nbformat": 4,
 "nbformat_minor": 2
}
